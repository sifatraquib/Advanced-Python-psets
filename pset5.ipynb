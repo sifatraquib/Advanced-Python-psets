{
 "cells": [
  {
   "cell_type": "markdown",
   "metadata": {},
   "source": [
    "\n",
    "---"
   ]
  },
  {
   "cell_type": "markdown",
   "metadata": {},
   "source": [
    "# Problem 1.\n",
    "\n",
    "\n",
    "In Lecture 04 we considered the heat equation over a homogeneous material for which an iteration is given by the following equation:\n",
    "$$\n",
    "f_{i,j} = \\frac{f_{i+1,j}+f_{i-1,j} + f_{i,j+1} + f_{i,j-1}}{4} \\,.\n",
    "$$\n",
    "\n",
    "This was implemented by: \n",
    "```\n",
    "# using iterators to traverse the grid\n",
    "def iteration_gen(G):\n",
    "\"\"\"the iteration function from lect04\"\"\"\n",
    "    n = G.shape[0]\n",
    "    indices = product(range(1, n-1), repeat=2)\n",
    "    for e in indices:\n",
    "        G[e]=(G[e[0] + 1, e[1]] + G[e[0] - 1, e[1]] + G[e[0], e[1] + 1] + G[e[0], e[1] - 1])/4\n",
    "```\n",
    "\n",
    "\n",
    "----\n",
    "\n",
    "Now imagine, you are given a non-homogeneous material for which the iteration, i.e. the corresponding equation,  depends on the position $(i, j)$ and is given by:\n",
    "$$\n",
    "f_{i,j} := \\frac{ h_{i + 1,j} f_{i + 1, j} + h_{i - 1,j} f_{i - 1,j} + h_{i,j + 1} f_{i,j+1} + h_{i,j - 1} f_{i,j-1}}{ h_{i + 1,j} + h_{i - 1,j} + h_{i,j + 1} + h_{i,j - 1} } \\,.\n",
    "$$\n",
    "Here \"weight\"\n",
    "$$h(i, j) = \\exp\\left(-\\frac{|i - j|} {\\sqrt{n}}\\right) \\,,$$\n",
    "corresponds to the point $(i, j)$, where $n$ is the size of the grid.\n",
    "\n",
    "----\n",
    "\n",
    "Write a new function:\n",
    "```\n",
    "def iteration_gen_nonhomogeneous(G):\n",
    "    \"\"\"the iteration function in hw05\"\"\"\n",
    "```\n",
    "to solve the non-homogeneous case defined as above. \n",
    "\n",
    "\n",
    "The task here is to examine run-time improvements that can be obtained by Cython for this non-homogeneous material. Consider **solve_heat_equation4** from Lect04, which now becomes.\n",
    "\n",
    "```\n",
    "def solve_heat_nonhomogeneous_equation4(n):\n",
    "    '''changing to both calc_error_np and iteration_gen functions'''\n",
    "    G = build_grid(n)\n",
    "    set_boundary_grid(G)\n",
    "    \n",
    "    G_prev = build_grid(n)\n",
    "    copy_array(G, G_prev)\n",
    "    \n",
    "    error = np.float(\"inf\")\n",
    "    while error > 1e-7:\n",
    "        iteration_gen_nonhomogeneous(G)\n",
    "        error = calc_error_np(G, G_prev) \n",
    "        copy_array(G, G_prev)          \n",
    "    return(G)\n",
    "```\n",
    "\n",
    "----\n",
    "\n",
    "Concretely, as presented in Lect05, perform the following steps and measure their run-times:\n",
    "\n",
    "(i) simply compile the python code with Cython, without any changes;\n",
    "\n",
    "\n",
    "(ii) introduce variables and arrays with ctypes (by using the command cdef);  \n",
    "\n",
    "\n",
    "(iii) besides (ii), also use the content of ndarray objects in order to efficiently access the data buffer of the arrays.\n",
    "\n",
    "---\n",
    "\n",
    "In the sequel of the notebook, as your solution, submit codes, run-times, and plots of the following tasks:\n",
    "\n",
    "**2.1 solve_heat_nonhomogeneous_equation4(100)\n",
    "\n",
    "**2.2 solve_heat_nonhomogeneous_equation4(100) when applied (i)  \n",
    "\n",
    "**2.3 solve_heat_nonhomogeneous_equation4(100) when applied (ii)  \n",
    "\n",
    "**2.4 solve_heat_nonhomogeneous_equation4(100) when applied (iii)  \n",
    "\n",
    "Notice that to obtain a best performance for the heat equation you also need to apply (i), (ii), (iii) to the functions called within \"solve_heat_equation4\".\n"
   ]
  },
  {
   "cell_type": "code",
   "execution_count": 5,
   "metadata": {},
   "outputs": [],
   "source": [
    "%load_ext Cython"
   ]
  },
  {
   "cell_type": "code",
   "execution_count": 6,
   "metadata": {},
   "outputs": [
    {
     "name": "stdout",
     "output_type": "stream",
     "text": [
      "The line_profiler extension is already loaded. To reload it, use:\n",
      "  %reload_ext line_profiler\n"
     ]
    }
   ],
   "source": [
    "%load_ext line_profiler"
   ]
  },
  {
   "cell_type": "code",
   "execution_count": 7,
   "metadata": {},
   "outputs": [],
   "source": [
    "size_of_grid = 100"
   ]
  },
  {
   "cell_type": "markdown",
   "metadata": {},
   "source": [
    "### Part 1: solve_heat_equation4(100)"
   ]
  },
  {
   "cell_type": "code",
   "execution_count": 8,
   "metadata": {},
   "outputs": [],
   "source": [
    "from itertools import product\n",
    "import numpy as np\n",
    "import matplotlib.pyplot as plt\n",
    "\n",
    "def build_grid(n):\n",
    "    '''defines the grid'''\n",
    "    G = np.zeros((n, n))\n",
    "    return G\n",
    "\n",
    "def set_boundary_grid(G):\n",
    "    '''set the boundary values'''\n",
    "    n = G.shape[0]\n",
    "    G[:,  0] = 1.0\n",
    "    G[0,  :] = 1.0\n",
    "    G[-1, :] = 1.0\n",
    "    G[:, -1] = 1.0\n",
    "\n",
    "def plot_grid(G):\n",
    "    img = plt.imshow(G)\n",
    "    img.set_cmap('rainbow')\n",
    "    plt.axis('off')\n",
    "    plt.show()\n",
    "\n",
    "def iteration_gen_nonhomogeneous(G):\n",
    "    \"\"\"\n",
    "        the iteration function in hw05\n",
    "    \n",
    "    \"\"\"\n",
    "    n = G.shape[0]\n",
    "    indices = product(range(1, n-1), repeat=2)\n",
    "    h = lambda i, j: np.exp(np.divide(np.subtract(0, np.abs(i-j)), np.sqrt(n)))\n",
    "    for e in indices:\n",
    "        h_ip1 = h(e[0]+1, e[1])\n",
    "        h_im1 = h(e[0]-1, e[1])\n",
    "        h_jp1 = h(e[0], e[1]+1)\n",
    "        h_jm1 = h(e[0], e[1]-1)\n",
    "        numerator = h_ip1*G[e[0]+1, e[1]] + h_im1*G[e[0]-1, e[1]] + h_jp1*G[e[0], e[1]+1] + h_jm1*G[e[0], e[1]-1]\n",
    "        denominator = h_ip1 + h_im1 + h_jp1 + h_jm1\n",
    "        G[e] = np.divide(numerator, denominator)\n",
    "        \n",
    "\n",
    "# using numpy built-in functions to compute the error\n",
    "def calc_error_np(G1, G2):\n",
    "    error = np.square(np.subtract(G1, G2)).mean()\n",
    "    return(error)\n",
    "\n",
    "# deep copy of G1 to G2\n",
    "def copy_array(G1, G2):\n",
    "    G2[:, :] = G1[:, :]\n",
    "\n",
    "    \n",
    "def solve_heat_nonhomogeneous_equation4(n):\n",
    "    '''changing to both calc_error_np and iteration_gen functions'''\n",
    "    G = build_grid(n)\n",
    "    set_boundary_grid(G)\n",
    "    \n",
    "    G_prev = build_grid(n)\n",
    "    copy_array(G, G_prev)\n",
    "    \n",
    "    error = np.float(\"inf\")\n",
    "    while error > 1e-7:\n",
    "        iteration_gen_nonhomogeneous(G)\n",
    "        error = calc_error_np(G, G_prev) \n",
    "        copy_array(G, G_prev)          \n",
    "    return(G)"
   ]
  },
  {
   "cell_type": "code",
   "execution_count": 9,
   "metadata": {},
   "outputs": [
    {
     "data": {
      "image/png": "[encoded data removed]",
      "text/plain": [
       "<Figure size 432x288 with 1 Axes>"
      ]
     },
     "metadata": {
      "needs_background": "light"
     },
     "output_type": "display_data"
    },
    {
     "data": {
      "text/plain": [
       "Timer unit: 1e-06 s\n",
       "\n",
       "Total time: 88.7552 s\n",
       "File: <ipython-input-8-4743653fa6aa>\n",
       "Function: solve_heat_nonhomogeneous_equation4 at line 52\n",
       "\n",
       "Line #      Hits         Time  Per Hit   % Time  Line Contents\n",
       "==============================================================\n",
       "    52                                           def solve_heat_nonhomogeneous_equation4(n):\n",
       "    53                                               '''changing to both calc_error_np and iteration_gen functions'''\n",
       "    54         1         58.0     58.0      0.0      G = build_grid(n)\n",
       "    55         1         28.0     28.0      0.0      set_boundary_grid(G)\n",
       "    56                                               \n",
       "    57         1        182.0    182.0      0.0      G_prev = build_grid(n)\n",
       "    58         1         31.0     31.0      0.0      copy_array(G, G_prev)\n",
       "    59                                               \n",
       "    60         1          4.0      4.0      0.0      error = np.float(\"inf\")\n",
       "    61       310        376.0      1.2      0.0      while error > 1e-7:\n",
       "    62       309   88728866.0 287148.4    100.0          iteration_gen_nonhomogeneous(G)\n",
       "    63       309      22653.0     73.3      0.0          error = calc_error_np(G, G_prev) \n",
       "    64       309       3037.0      9.8      0.0          copy_array(G, G_prev)          \n",
       "    65         1          1.0      1.0      0.0      return(G)"
      ]
     },
     "metadata": {},
     "output_type": "display_data"
    }
   ],
   "source": [
    "%lprun -f solve_heat_nonhomogeneous_equation4 G = solve_heat_nonhomogeneous_equation4(size_of_grid)\n",
    "plot_grid(G)"
   ]
  },
  {
   "cell_type": "markdown",
   "metadata": {},
   "source": [
    "### HERE COPY-PASTE THE OUTPUT FROM LINE-PROFILER:\n",
    "\n",
    "Total time: 88.7552 s\n",
    "\n",
    "File: <ipython-input-8-4743653fa6aa>\n",
    "    \n",
    "Function: solve_heat_nonhomogeneous_equation4 at line 52\n",
    "\n",
    "Line #      Hits         Time  Per Hit   % Time  Line Contents\n",
    "____________________________________________________________________________________________\n",
    "    52                                           def solve_heat_nonhomogeneous_equation4(n):\n",
    "    53                                               '''changing to both calc_error_np and iteration_gen functions'''\n",
    "    54         1         58.0     58.0      0.0      G = build_grid(n)\n",
    "    55         1         28.0     28.0      0.0      set_boundary_grid(G)\n",
    "    56                                               \n",
    "    57         1        182.0    182.0      0.0      G_prev = build_grid(n)\n",
    "    58         1         31.0     31.0      0.0      copy_array(G, G_prev)\n",
    "    59                                               \n",
    "    60         1          4.0      4.0      0.0      error = np.float(\"inf\")\n",
    "    61       310        376.0      1.2      0.0      while error > 1e-7:\n",
    "    62       309   88728866.0 287148.4    100.0          iteration_gen_nonhomogeneous(G)\n",
    "    63       309      22653.0     73.3      0.0          error = calc_error_np(G, G_prev) \n",
    "    64       309       3037.0      9.8      0.0          copy_array(G, G_prev)          \n",
    "    65         1          1.0      1.0      0.0      return(G)"
   ]
  },
  {
   "cell_type": "markdown",
   "metadata": {},
   "source": [
    "### Part 2: solve_heat_equation4(100) after applying (i)\n"
   ]
  },
  {
   "cell_type": "code",
   "execution_count": 10,
   "metadata": {},
   "outputs": [
    {
     "name": "stdout",
     "output_type": "stream",
     "text": [
      "The Cython extension is already loaded. To reload it, use:\n",
      "  %reload_ext Cython\n"
     ]
    }
   ],
   "source": [
    "%load_ext Cython"
   ]
  },
  {
   "cell_type": "code",
   "execution_count": 11,
   "metadata": {},
   "outputs": [],
   "source": [
    "%%cython\n",
    "# cython: linetrace=True\n",
    "# cython: binding=True\n",
    "# distutils: define_macros=CYTHON_TRACE_NOGIL=1\n",
    "\n",
    "from itertools import product\n",
    "import numpy as np\n",
    "cimport numpy as np\n",
    "import matplotlib.pyplot as plt\n",
    "\n",
    "def build_grid(n):\n",
    "    '''defines the grid'''\n",
    "    G = np.zeros((n, n))\n",
    "    return G\n",
    "\n",
    "def set_boundary_grid(G):\n",
    "    '''set the boundary values'''\n",
    "    n = G.shape[0]\n",
    "    G[:,  0] = 1.0\n",
    "    G[0,  :] = 1.0\n",
    "    G[-1, :] = 1.0\n",
    "    G[:, -1] = 1.0\n",
    "\n",
    "def plot_grid(G):\n",
    "    img = plt.imshow(G)\n",
    "    img.set_cmap('rainbow')\n",
    "    plt.axis('off')\n",
    "    plt.show()\n",
    "\n",
    "def iteration_gen_nonhomogeneous(G):\n",
    "    \"\"\"\n",
    "        the iteration function in hw05\n",
    "    \n",
    "    \"\"\"\n",
    "    n = G.shape[0]\n",
    "    indices = product(range(1, n-1), repeat=2)\n",
    "    h = lambda i, j: np.exp(np.divide(np.subtract(0, np.abs(i-j)), np.sqrt(n)))\n",
    "    for e in indices:\n",
    "        h_ip1 = h(e[0]+1, e[1])\n",
    "        h_im1 = h(e[0]-1, e[1])\n",
    "        h_jp1 = h(e[0], e[1]+1)\n",
    "        h_jm1 = h(e[0], e[1]-1)\n",
    "        numerator = h_ip1*G[e[0]+1, e[1]] + h_im1*G[e[0]-1, e[1]] + h_jp1*G[e[0], e[1]+1] + h_jm1*G[e[0], e[1]-1]\n",
    "        denominator = h_ip1 + h_im1 + h_jp1 + h_jm1\n",
    "        G[e] = np.divide(numerator, denominator)\n",
    "        \n",
    "\n",
    "# using numpy built-in functions to compute the error\n",
    "def calc_error_np(G1, G2):\n",
    "    error = np.square(np.subtract(G1, G2)).mean()\n",
    "    return(error)\n",
    "\n",
    "# deep copy of G1 to G2\n",
    "def copy_array(G1, G2):\n",
    "    G2[:, :] = G1[:, :]\n",
    "\n",
    "    \n",
    "def solve_heat_nonhomogenous_equation4(n):\n",
    "    '''changing to both calc_error_np and iteration_gen functions'''\n",
    "    G = build_grid(n)\n",
    "    set_boundary_grid(G)\n",
    "    \n",
    "    G_prev = build_grid(n)\n",
    "    copy_array(G, G_prev)\n",
    "    \n",
    "    error = np.float(\"inf\")\n",
    "    while error > 1e-7:\n",
    "        iteration_gen_nonhomogeneous(G)\n",
    "        error = calc_error_np(G, G_prev) \n",
    "        copy_array(G, G_prev)          \n",
    "    return(G)"
   ]
  },
  {
   "cell_type": "code",
   "execution_count": 12,
   "metadata": {},
   "outputs": [
    {
     "data": {
      "image/png": "[encoded data removed]",
      "text/plain": [
       "<Figure size 432x288 with 1 Axes>"
      ]
     },
     "metadata": {
      "needs_background": "light"
     },
     "output_type": "display_data"
    },
    {
     "data": {
      "text/plain": [
       "Timer unit: 1e-06 s\n",
       "\n",
       "Total time: 71.5379 s\n",
       "File: /Users/sifatraquib/.ipython/cython/_cython_magic_8fb47d3162e6147f31d64e9e54c402a1.pyx\n",
       "Function: solve_heat_nonhomogenous_equation4 at line 57\n",
       "\n",
       "Line #      Hits         Time  Per Hit   % Time  Line Contents\n",
       "==============================================================\n",
       "    57                                           def solve_heat_nonhomogenous_equation4(n):\n",
       "    58                                               '''changing to both calc_error_np and iteration_gen functions'''\n",
       "    59         1         94.0     94.0      0.0      G = build_grid(n)\n",
       "    60         1         16.0     16.0      0.0      set_boundary_grid(G)\n",
       "    61                                               \n",
       "    62         1         42.0     42.0      0.0      G_prev = build_grid(n)\n",
       "    63         1         61.0     61.0      0.0      copy_array(G, G_prev)\n",
       "    64                                               \n",
       "    65         1          2.0      2.0      0.0      error = np.float(\"inf\")\n",
       "    66         1          0.0      0.0      0.0      while error > 1e-7:\n",
       "    67       309   71511031.0 231427.3    100.0          iteration_gen_nonhomogeneous(G)\n",
       "    68       309      23868.0     77.2      0.0          error = calc_error_np(G, G_prev) \n",
       "    69       309       2761.0      8.9      0.0          copy_array(G, G_prev)          \n",
       "    70         1          2.0      2.0      0.0      return(G)"
      ]
     },
     "metadata": {},
     "output_type": "display_data"
    }
   ],
   "source": [
    "%lprun -f solve_heat_nonhomogenous_equation4 G = solve_heat_nonhomogenous_equation4(size_of_grid)\n",
    "plot_grid(G)"
   ]
  },
  {
   "cell_type": "markdown",
   "metadata": {},
   "source": [
    "### HERE COPY-PASTE THE OUTPUT FROM LINE-PROFILER:"
   ]
  },
  {
   "cell_type": "markdown",
   "metadata": {},
   "source": [
    "Total time: 71.5379 s\n",
    "\n",
    "File: /Users/sifatraquib/.ipython/cython/_cython_magic_8fb47d3162e6147f31d64e9e54c402a1.pyx\n",
    "\n",
    "Function: solve_heat_nonhomogenous_equation4 at line 57\n",
    "\n",
    "Line #      Hits         Time  Per Hit   % Time  Line Contents\n",
    "_________________________________________________________________________________________________\n",
    "    57                                           def solve_heat_nonhomogenous_equation4(n):\n",
    "    58                                               '''changing to both calc_error_np and iteration_gen functions'''\n",
    "    59         1         94.0     94.0      0.0      G = build_grid(n)\n",
    "    60         1         16.0     16.0      0.0      set_boundary_grid(G)\n",
    "    61                                               \n",
    "    62         1         42.0     42.0      0.0      G_prev = build_grid(n)\n",
    "    63         1         61.0     61.0      0.0      copy_array(G, G_prev)\n",
    "    64                                               \n",
    "    65         1          2.0      2.0      0.0      error = np.float(\"inf\")\n",
    "    66         1          0.0      0.0      0.0      while error > 1e-7:\n",
    "    67       309   71511031.0 231427.3    100.0          iteration_gen_nonhomogeneous(G)\n",
    "    68       309      23868.0     77.2      0.0          error = calc_error_np(G, G_prev) \n",
    "    69       309       2761.0      8.9      0.0          copy_array(G, G_prev)          \n",
    "    70         1          2.0      2.0      0.0      return(G)"
   ]
  },
  {
   "cell_type": "markdown",
   "metadata": {},
   "source": [
    "### Part 3: solve_heat_equation4(100) after applying (ii)"
   ]
  },
  {
   "cell_type": "code",
   "execution_count": 14,
   "metadata": {},
   "outputs": [],
   "source": [
    "%%cython\n",
    "# cython: linetrace=True\n",
    "# cython: binding=True\n",
    "# distutils: define_macros=CYTHON_TRACE_NOGIL=1\n",
    "\n",
    "from itertools import product\n",
    "import numpy as np\n",
    "cimport numpy as np\n",
    "import matplotlib.pyplot as plt\n",
    "\n",
    "def build_grid(int n):\n",
    "    '''defines the grid'''\n",
    "    cdef np.ndarray G = np.zeros((n, n), dtype=np.float)\n",
    "    return G\n",
    "\n",
    "def set_boundary_grid(np.ndarray G):\n",
    "    '''set the boundary values'''\n",
    "    cdef int n = G.shape[0]\n",
    "    G[:,  0] = 1.0\n",
    "    G[0,  :] = 1.0\n",
    "    G[-1, :] = 1.0\n",
    "    G[:, -1] = 1.0\n",
    "\n",
    "def plot_grid(G):\n",
    "    img = plt.imshow(G)\n",
    "    img.set_cmap('rainbow')\n",
    "    plt.axis('off')\n",
    "    plt.show()\n",
    "\n",
    "def iteration_gen_nonhomogeneous(np.ndarray G):\n",
    "    \"\"\"\n",
    "        the iteration function in hw05\n",
    "    \n",
    "    \"\"\"\n",
    "    cdef int n = G.shape[0]\n",
    "    indices = product(range(1, n-1), repeat=2)\n",
    "    cdef int a, b\n",
    "    h = lambda a, b: np.exp(np.divide(np.subtract(0, np.abs(a-b)), np.sqrt(n)))\n",
    "    cdef double h_ip1, h_im1, h_jp1, h_jm1, numerator, denominator\n",
    "    for e in indices:\n",
    "        h_ip1 = h(e[0]+1, e[1])\n",
    "        h_im1 = h(e[0]-1, e[1])\n",
    "        h_jp1 = h(e[0], e[1]+1)\n",
    "        h_jm1 = h(e[0], e[1]-1)\n",
    "        numerator = h_ip1*G[e[0]+1, e[1]] + h_im1*G[e[0]-1, e[1]] + h_jp1*G[e[0], e[1]+1] + h_jm1*G[e[0], e[1]-1]\n",
    "        denominator = h_ip1 + h_im1 + h_jp1 + h_jm1\n",
    "        G[e] = np.divide(numerator, denominator)\n",
    "        \n",
    "\n",
    "# using numpy built-in functions to compute the error\n",
    "def calc_error_np(np.ndarray G1, np.ndarray G2):\n",
    "    cdef double error = np.square(np.subtract(G1, G2)).mean()\n",
    "    return(error)\n",
    "\n",
    "# deep copy of G1 to G2\n",
    "def copy_array(np.ndarray G1, np.ndarray G2):\n",
    "    G2[:, :] = G1[:, :]\n",
    "\n",
    "    \n",
    "def solve_heat_nonhomogenous_equation4(int n):\n",
    "    '''changing to both calc_error_np and iteration_gen functions'''\n",
    "    cdef np.ndarray G = build_grid(n)\n",
    "    set_boundary_grid(G)\n",
    "    cdef np.ndarray G_prev = build_grid(n)\n",
    "    copy_array(G, G_prev)\n",
    "    \n",
    "    cdef double error = np.float(\"inf\")\n",
    "    while error > 1e-7:\n",
    "        iteration_gen_nonhomogeneous(G)\n",
    "        error = calc_error_np(G, G_prev) \n",
    "        copy_array(G, G_prev)          \n",
    "    \n",
    "    return(G)"
   ]
  },
  {
   "cell_type": "code",
   "execution_count": 15,
   "metadata": {},
   "outputs": [
    {
     "data": {
      "image/png": "[encoded data removed]",
      "text/plain": [
       "<Figure size 432x288 with 1 Axes>"
      ]
     },
     "metadata": {
      "needs_background": "light"
     },
     "output_type": "display_data"
    },
    {
     "data": {
      "text/plain": [
       "Timer unit: 1e-06 s\n",
       "\n",
       "Total time: 69.2562 s\n",
       "File: /Users/sifatraquib/.ipython/cython/_cython_magic_2f9ae2148e6270a6321c9533443d5ae1.pyx\n",
       "Function: solve_heat_nonhomogenous_equation4 at line 59\n",
       "\n",
       "Line #      Hits         Time  Per Hit   % Time  Line Contents\n",
       "==============================================================\n",
       "    59                                           def solve_heat_nonhomogenous_equation4(int n):\n",
       "    60                                               '''changing to both calc_error_np and iteration_gen functions'''\n",
       "    61         1         85.0     85.0      0.0      cdef np.ndarray G = build_grid(n)\n",
       "    62         1         18.0     18.0      0.0      set_boundary_grid(G)\n",
       "    63         1         15.0     15.0      0.0      cdef np.ndarray G_prev = build_grid(n)\n",
       "    64         1         50.0     50.0      0.0      copy_array(G, G_prev)\n",
       "    65                                               \n",
       "    66         1          3.0      3.0      0.0      cdef double error = np.float(\"inf\")\n",
       "    67         1          0.0      0.0      0.0      while error > 1e-7:\n",
       "    68       309   69229258.0 224042.9    100.0          iteration_gen_nonhomogeneous(G)\n",
       "    69       309      24020.0     77.7      0.0          error = calc_error_np(G, G_prev) \n",
       "    70       309       2773.0      9.0      0.0          copy_array(G, G_prev)          \n",
       "    71                                               \n",
       "    72         1          1.0      1.0      0.0      return(G)"
      ]
     },
     "metadata": {},
     "output_type": "display_data"
    }
   ],
   "source": [
    "%lprun -f solve_heat_nonhomogenous_equation4 G = solve_heat_nonhomogenous_equation4(size_of_grid)\n",
    "plot_grid(G)"
   ]
  },
  {
   "cell_type": "markdown",
   "metadata": {},
   "source": [
    "### HERE COPY-PASTE THE OUTPUT FROM LINE-PROFILER:"
   ]
  },
  {
   "cell_type": "markdown",
   "metadata": {},
   "source": [
    "Total time: 69.2562 s\n",
    "\n",
    "File: /Users/sifatraquib/.ipython/cython/_cython_magic_2f9ae2148e6270a6321c9533443d5ae1.pyx\n",
    "\n",
    "Function: solve_heat_nonhomogenous_equation4 at line 59\n",
    "\n",
    "Line #      Hits         Time  Per Hit   % Time  Line Contents\n",
    "_______________________________________________________________________________________________________________\n",
    "    59                                           def solve_heat_nonhomogenous_equation4(int n):\n",
    "    60                                               '''changing to both calc_error_np and iteration_gen functions'''\n",
    "    61         1         85.0     85.0      0.0      cdef np.ndarray G = build_grid(n)\n",
    "    62         1         18.0     18.0      0.0      set_boundary_grid(G)\n",
    "    63         1         15.0     15.0      0.0      cdef np.ndarray G_prev = build_grid(n)\n",
    "    64         1         50.0     50.0      0.0      copy_array(G, G_prev)\n",
    "    65                                               \n",
    "    66         1          3.0      3.0      0.0      cdef double error = np.float(\"inf\")\n",
    "    67         1          0.0      0.0      0.0      while error > 1e-7:\n",
    "    68       309   69229258.0 224042.9    100.0          iteration_gen_nonhomogeneous(G)\n",
    "    69       309      24020.0     77.7      0.0          error = calc_error_np(G, G_prev) \n",
    "    70       309       2773.0      9.0      0.0          copy_array(G, G_prev)          \n",
    "    71                                               \n",
    "    72         1          1.0      1.0      0.0      return(G)"
   ]
  },
  {
   "cell_type": "markdown",
   "metadata": {},
   "source": [
    "### Part 4: solve_heat_equation4(100) after applying (iii)"
   ]
  },
  {
   "cell_type": "code",
   "execution_count": 16,
   "metadata": {},
   "outputs": [],
   "source": [
    "%%cython\n",
    "# cython: linetrace=True\n",
    "# cython: binding=True\n",
    "# distutils: define_macros=CYTHON_TRACE_NOGIL=1\n",
    "\n",
    "import numpy as np\n",
    "cimport numpy as np\n",
    "import matplotlib.pyplot as plt\n",
    "from itertools import product\n",
    "\n",
    "def build_grid(int n):\n",
    "    '''defines the grid'''\n",
    "    cdef np.ndarray[double, ndim=2] G = np.zeros((n, n), dtype=np.float)\n",
    "    return G\n",
    "\n",
    "def set_boundary_grid(np.ndarray[double, ndim=2] G):\n",
    "    '''set the boundary values'''\n",
    "    cdef int n = G.shape[0]\n",
    "    G[:,  0] = 1.0\n",
    "    G[0,  :] = 1.0\n",
    "    G[-1, :] = 1.0\n",
    "    G[:, -1] = 1.0\n",
    "\n",
    "def plot_grid(G):\n",
    "    img = plt.imshow(G)\n",
    "    img.set_cmap('rainbow')\n",
    "    plt.axis('off')\n",
    "    plt.show()\n",
    "\n",
    "def iteration_gen_nonhomogeneous(np.ndarray[double, ndim=2] G):\n",
    "    \"\"\"\n",
    "        the iteration function in hw05\n",
    "    \n",
    "    \"\"\"\n",
    "    cdef int n = G.shape[0]\n",
    "    indices = product(range(1, n-1), repeat=2)\n",
    "    cdef int a, b\n",
    "    h = lambda a, b: np.exp(np.divide(np.subtract(0, np.abs(a-b)), np.sqrt(n)))\n",
    "    cdef double h_ip1, h_im1, h_jp1, h_jm1, numerator, denominator\n",
    "    for e in indices:\n",
    "        h_ip1 = h(e[0]+1, e[1])\n",
    "        h_im1 = h(e[0]-1, e[1])\n",
    "        h_jp1 = h(e[0], e[1]+1)\n",
    "        h_jm1 = h(e[0], e[1]-1)\n",
    "        numerator = h_ip1*G[e[0]+1, e[1]] + h_im1*G[e[0]-1, e[1]] + h_jp1*G[e[0], e[1]+1] + h_jm1*G[e[0], e[1]-1]\n",
    "        denominator = h_ip1 + h_im1 + h_jp1 + h_jm1\n",
    "        G[e] = np.divide(numerator, denominator)\n",
    "        \n",
    "\n",
    "# using numpy built-in functions to compute the error\n",
    "def calc_error_np(np.ndarray[double, ndim=2] G1, np.ndarray[double, ndim=2] G2):\n",
    "    cdef double error = np.square(np.subtract(G1, G2)).mean()\n",
    "    return(error)\n",
    "\n",
    "# deep copy of G1 to G2\n",
    "def copy_array(np.ndarray[double, ndim=2] G1, np.ndarray[double, ndim=2] G2):\n",
    "    G2[:, :] = G1[:, :]\n",
    "\n",
    "    \n",
    "def solve_heat_nonhomogenous_equation4(int n):\n",
    "    '''changing to both calc_error_np and iteration_gen functions'''\n",
    "    cdef np.ndarray[double, ndim=2] G = build_grid(n)\n",
    "    set_boundary_grid(G)\n",
    "    cdef np.ndarray[double, ndim=2] G_prev = build_grid(n)\n",
    "    copy_array(G, G_prev)\n",
    "    cdef double error = np.float(\"inf\")\n",
    "    while error > 1e-7:\n",
    "        iteration_gen_nonhomogeneous(G)\n",
    "        error = calc_error_np(G, G_prev) \n",
    "        copy_array(G, G_prev)          \n",
    "    \n",
    "    return(G)"
   ]
  },
  {
   "cell_type": "code",
   "execution_count": 17,
   "metadata": {},
   "outputs": [
    {
     "data": {
      "image/png": "[encoded data removed]",
      "text/plain": [
       "<Figure size 432x288 with 1 Axes>"
      ]
     },
     "metadata": {
      "needs_background": "light"
     },
     "output_type": "display_data"
    },
    {
     "data": {
      "text/plain": [
       "Timer unit: 1e-06 s\n",
       "\n",
       "Total time: 69.1963 s\n",
       "File: /Users/sifatraquib/.ipython/cython/_cython_magic_89650f3723d1ffdb27418d0028940ebf.pyx\n",
       "Function: solve_heat_nonhomogenous_equation4 at line 59\n",
       "\n",
       "Line #      Hits         Time  Per Hit   % Time  Line Contents\n",
       "==============================================================\n",
       "    59                                           def solve_heat_nonhomogenous_equation4(int n):\n",
       "    60                                               '''changing to both calc_error_np and iteration_gen functions'''\n",
       "    61         1         87.0     87.0      0.0      cdef np.ndarray[double, ndim=2] G = build_grid(n)\n",
       "    62         1         14.0     14.0      0.0      set_boundary_grid(G)\n",
       "    63         1        189.0    189.0      0.0      cdef np.ndarray[double, ndim=2] G_prev = build_grid(n)\n",
       "    64         1        114.0    114.0      0.0      copy_array(G, G_prev)\n",
       "    65         1          3.0      3.0      0.0      cdef double error = np.float(\"inf\")\n",
       "    66         1          1.0      1.0      0.0      while error > 1e-7:\n",
       "    67       309   69167334.0 223842.5    100.0          iteration_gen_nonhomogeneous(G)\n",
       "    68       309      25485.0     82.5      0.0          error = calc_error_np(G, G_prev) \n",
       "    69       309       3039.0      9.8      0.0          copy_array(G, G_prev)          \n",
       "    70                                               \n",
       "    71         1          2.0      2.0      0.0      return(G)"
      ]
     },
     "metadata": {},
     "output_type": "display_data"
    }
   ],
   "source": [
    "%lprun -f solve_heat_nonhomogenous_equation4 G = solve_heat_nonhomogenous_equation4(size_of_grid)\n",
    "plot_grid(G)"
   ]
  },
  {
   "cell_type": "markdown",
   "metadata": {},
   "source": [
    "### HERE COPY-PASTE THE OUTPUT FROM LINE-PROFILER:"
   ]
  },
  {
   "cell_type": "markdown",
   "metadata": {},
   "source": [
    "Total time: 69.1963 s\n",
    "\n",
    "File: /Users/sifatraquib/.ipython/cython/_cython_magic_89650f3723d1ffdb27418d0028940ebf.pyx\n",
    "\n",
    "Function: solve_heat_nonhomogenous_equation4 at line 59\n",
    "\n",
    "Line #      Hits         Time  Per Hit   % Time  Line Contents\n",
    "_________________________________________________________________________________________________________________\n",
    "    59                                           def solve_heat_nonhomogenous_equation4(int n):\n",
    "    60                                               '''changing to both calc_error_np and iteration_gen functions'''\n",
    "    61         1         87.0     87.0      0.0      cdef np.ndarray[double, ndim=2] G = build_grid(n)\n",
    "    62         1         14.0     14.0      0.0      set_boundary_grid(G)\n",
    "    63         1        189.0    189.0      0.0      cdef np.ndarray[double, ndim=2] G_prev = build_grid(n)\n",
    "    64         1        114.0    114.0      0.0      copy_array(G, G_prev)\n",
    "    65         1          3.0      3.0      0.0      cdef double error = np.float(\"inf\")\n",
    "    66         1          1.0      1.0      0.0      while error > 1e-7:\n",
    "    67       309   69167334.0 223842.5    100.0          iteration_gen_nonhomogeneous(G)\n",
    "    68       309      25485.0     82.5      0.0          error = calc_error_np(G, G_prev) \n",
    "    69       309       3039.0      9.8      0.0          copy_array(G, G_prev)          \n",
    "    70                                               \n",
    "    71         1          2.0      2.0      0.0      return(G)"
   ]
  }
 ],
 "metadata": {
  "kernelspec": {
   "display_name": "Python 3",
   "language": "python",
   "name": "python3"
  },
  "language_info": {
   "codemirror_mode": {
    "name": "ipython",
    "version": 3
   },
   "file_extension": ".py",
   "mimetype": "text/x-python",
   "name": "python",
   "nbconvert_exporter": "python",
   "pygments_lexer": "ipython3",
   "version": "3.8.5"
  },
  "toc": {
   "base_numbering": 1,
   "nav_menu": {},
   "number_sections": true,
   "sideBar": true,
   "skip_h1_title": false,
   "title_cell": "Table of Contents",
   "title_sidebar": "Contents",
   "toc_cell": false,
   "toc_position": {},
   "toc_section_display": true,
   "toc_window_display": false
  },
  "varInspector": {
   "cols": {
    "lenName": 16,
    "lenType": 16,
    "lenVar": 40
   },
   "kernels_config": {
    "python": {
     "delete_cmd_postfix": "",
     "delete_cmd_prefix": "del ",
     "library": "var_list.py",
     "varRefreshCmd": "print(var_dic_list())"
    },
    "r": {
     "delete_cmd_postfix": ") ",
     "delete_cmd_prefix": "rm(",
     "library": "var_list.r",
     "varRefreshCmd": "cat(var_dic_list()) "
    }
   },
   "types_to_exclude": [
    "module",
    "function",
    "builtin_function_or_method",
    "instance",
    "_Feature"
   ],
   "window_display": false
  }
 },
 "nbformat": 4,
 "nbformat_minor": 4
}
