{
 "cells": [
  {
   "cell_type": "markdown",
   "metadata": {},
   "source": [
    "# Problem 1. (30pt)\n",
    "\n",
    "Write a function f(n) to calculate the number of ways of representing $n$ as a sum of 1, 2, and 5, where the order of summands is important. For example: \n",
    "\n",
    "---\n",
    "\n",
    "n = 1  \n",
    "1 = 1  \n",
    "f(1) = 1  \n",
    "\n",
    "---\n",
    "\n",
    "n = 2  \n",
    "2 = 1 + 1  \n",
    "2 = 2  \n",
    "f(2) = 2  \n",
    "\n",
    "---\n",
    "\n",
    "n = 3  \n",
    "3 = 1 + 1 + 1  \n",
    "3 = 1 + 2  \n",
    "3 = 2 + 1  \n",
    "f(3) = 3 \n",
    "\n",
    "---\n",
    "\n",
    "n = 5  \n",
    "5 = 1 + 1 + 1 + 1 + 1  \n",
    "5 = 1 + 1 + 1 + 2  \n",
    "5 = 1 + 1 + 2 + 1  \n",
    "5 = 1 + 2 + 1 + 1  \n",
    "5 = 2 + 1 + 1 + 1  \n",
    "5 = 2 + 2 + 1  \n",
    "5 = 2 + 1 + 2  \n",
    "5 = 1 + 2 + 2  \n",
    "5 = 5  \n",
    "f(5) = 9\n",
    "\n",
    "---\n",
    "\n",
    "(10pt) Write a recursive solution f_rec() without memoization and time it for $n=10, 25$.  \n",
    "\n",
    "(10pt) Write a recursive solution with memoization or a wrapper function f_memo() and time it for $n=10, 25, 50, 100$.  \n",
    "\n",
    "(10pt) Write an iterative solution f_it() and time it for $n=10, 25, 50, 100$.  \n",
    "\n"
   ]
  },
  {
   "cell_type": "markdown",
   "metadata": {},
   "source": [
    "# Solution 1."
   ]
  },
  {
   "cell_type": "code",
   "execution_count": 156,
   "metadata": {},
   "outputs": [],
   "source": [
    "# number of loops\n",
    "r = 5\n",
    "\n",
    "# number of runs\n",
    "k = 10"
   ]
  },
  {
   "cell_type": "markdown",
   "metadata": {},
   "source": [
    "### f_rec(n):"
   ]
  },
  {
   "cell_type": "code",
   "execution_count": 157,
   "metadata": {},
   "outputs": [],
   "source": [
    "def f_rec(n):\n",
    "    '''\n",
    "    \n",
    "        f_rec(int) -> int\n",
    "    \n",
    "        input: n, an integer\n",
    "    \n",
    "        output: number of ways of representing n \n",
    "        as a sum of 1, 2, and 5, \n",
    "        where the order of summands is important,\n",
    "        a non-negative integer\n",
    "    \n",
    "        Note: this particular function uses recursion\n",
    "    \n",
    "    '''\n",
    "    \n",
    "    # base cases\n",
    "    if n <= 0:\n",
    "        return 0\n",
    "    elif n == 1:\n",
    "        return 1\n",
    "    elif n == 2:\n",
    "        return 2\n",
    "    \n",
    "    # for n in [3, 4]\n",
    "    elif n < 5:\n",
    "        return f_rec(n-1) + f_rec(n-2)\n",
    "    \n",
    "    # base case for n = 5\n",
    "    elif n == 5:\n",
    "        return 9\n",
    "    \n",
    "    # recurse\n",
    "    else:\n",
    "        return f_rec(n-1) + f_rec(n-2) + f_rec(n-5)"
   ]
  },
  {
   "cell_type": "code",
   "execution_count": 158,
   "metadata": {},
   "outputs": [
    {
     "name": "stdout",
     "output_type": "stream",
     "text": [
      "function used: f_rec\n",
      "number of runs: 10\n",
      "number of loops: 5\n",
      "n = 10:\n",
      "13.9 µs ± 399 ns per loop (mean ± std. dev. of 10 runs, 5 loops each)\n",
      "n = 25:\n",
      "23.9 ms ± 2.19 ms per loop (mean ± std. dev. of 10 runs, 5 loops each)\n"
     ]
    }
   ],
   "source": [
    "print(f'function used: {f_rec.__name__}')\n",
    "print(f'number of runs: {k}')\n",
    "print(f'number of loops: {r}')\n",
    "\n",
    "print('n = 10:')\n",
    "%timeit -n 5 -r 10 f_rec(10)\n",
    "\n",
    "print('n = 25:')\n",
    "%timeit -n 5 -r 10 f_rec(25)"
   ]
  },
  {
   "cell_type": "markdown",
   "metadata": {},
   "source": [
    "### f_memo(n):"
   ]
  },
  {
   "cell_type": "code",
   "execution_count": 159,
   "metadata": {},
   "outputs": [],
   "source": [
    "def f_memo(n):\n",
    "    \n",
    "    '''\n",
    "    \n",
    "        f_memo(int) -> int\n",
    "    \n",
    "        input: n, an integer\n",
    "    \n",
    "        output: number of ways of representing n \n",
    "        as a sum of 1, 2, and 5, \n",
    "        where the order of summands is important,\n",
    "        a non-negative integer\n",
    "    \n",
    "        Note: this particular function uses recursion\n",
    "        with memoization\n",
    "    \n",
    "    '''\n",
    "    \n",
    "    # result storage\n",
    "    # holds base cases for n in [0, 5]\n",
    "    res = [0, 1, 2, 3, 5, 9]\n",
    "    \n",
    "    # base cases\n",
    "    if n < 0:\n",
    "        return 0\n",
    "    \n",
    "    elif n >= 0 and n <= 5:\n",
    "        return res[n]\n",
    "    \n",
    "    # recurse and store\n",
    "    else:\n",
    "        for i in range(6, n+1):\n",
    "            res.insert(i, res[i-1] + res[i-2] + res[i-5])\n",
    "        return res[n]"
   ]
  },
  {
   "cell_type": "code",
   "execution_count": 160,
   "metadata": {},
   "outputs": [
    {
     "name": "stdout",
     "output_type": "stream",
     "text": [
      "function used: f_memo\n",
      "number of runs: 10\n",
      "number of loops: 5\n",
      "n = 10:\n",
      "1.83 µs ± 200 ns per loop (mean ± std. dev. of 10 runs, 5 loops each)\n",
      "n = 25:\n",
      "5.63 µs ± 226 ns per loop (mean ± std. dev. of 10 runs, 5 loops each)\n",
      "n = 50:\n",
      "12.2 µs ± 295 ns per loop (mean ± std. dev. of 10 runs, 5 loops each)\n",
      "n = 100:\n",
      "26 µs ± 613 ns per loop (mean ± std. dev. of 10 runs, 5 loops each)\n"
     ]
    }
   ],
   "source": [
    "print(f'function used: {f_memo.__name__}')\n",
    "print(f'number of runs: {k}')\n",
    "print(f'number of loops: {r}')\n",
    "\n",
    "print('n = 10:')\n",
    "%timeit -n 5 -r 10 f_memo(10)\n",
    "\n",
    "print('n = 25:')\n",
    "%timeit -n 5 -r 10 f_memo(25)\n",
    "\n",
    "print('n = 50:')\n",
    "%timeit -n 5 -r 10 f_memo(50)\n",
    "\n",
    "print('n = 100:')\n",
    "%timeit -n 5 -r 10 f_memo(100)"
   ]
  },
  {
   "cell_type": "markdown",
   "metadata": {},
   "source": [
    "### f_it(n):"
   ]
  },
  {
   "cell_type": "code",
   "execution_count": 161,
   "metadata": {},
   "outputs": [],
   "source": [
    "def f_it(n):\n",
    "    \n",
    "    '''\n",
    "    \n",
    "        f_it(int) -> int\n",
    "    \n",
    "        input: n, an integer\n",
    "    \n",
    "        output: number of ways of representing n \n",
    "        as a sum of 1, 2, and 5, \n",
    "        where the order of summands is important,\n",
    "        a non-negative integer\n",
    "    \n",
    "        Note: this particular function uses iteration\n",
    "    \n",
    "    '''\n",
    "    \n",
    "    # base cases\n",
    "    if n <= 0:\n",
    "        return 0\n",
    "    \n",
    "    elif n < 5:\n",
    "        m1, m2 = 0, 1\n",
    "        for i in range(1, n+1):\n",
    "            m1, m2 = m2, m1+m2\n",
    "        return m2\n",
    "    \n",
    "    elif n == 5:\n",
    "        return 9\n",
    "    \n",
    "    # loop\n",
    "    else:\n",
    "        m = [1, 2, f_it(3), f_it(4), 9]\n",
    "        for i in range(6, n+1):\n",
    "            new_m = m[4] + m[3] + m[0]\n",
    "            m.remove(m[0])\n",
    "            m.append(new_m)\n",
    "        return m[4]"
   ]
  },
  {
   "cell_type": "code",
   "execution_count": 162,
   "metadata": {},
   "outputs": [
    {
     "name": "stdout",
     "output_type": "stream",
     "text": [
      "function used: f_it\n",
      "number of runs: 10\n",
      "number of loops: 5\n",
      "n = 10:\n",
      "3.06 µs ± 238 ns per loop (mean ± std. dev. of 10 runs, 5 loops each)\n",
      "n = 25:\n",
      "7.3 µs ± 255 ns per loop (mean ± std. dev. of 10 runs, 5 loops each)\n",
      "n = 50:\n",
      "14.4 µs ± 321 ns per loop (mean ± std. dev. of 10 runs, 5 loops each)\n",
      "n = 100:\n",
      "29 µs ± 341 ns per loop (mean ± std. dev. of 10 runs, 5 loops each)\n"
     ]
    }
   ],
   "source": [
    "print(f'function used: {f_it.__name__}')\n",
    "print(f'number of runs: {k}')\n",
    "print(f'number of loops: {r}')\n",
    "\n",
    "print('n = 10:')\n",
    "%timeit -n 5 -r 10 f_it(10)\n",
    "\n",
    "print('n = 25:')\n",
    "%timeit -n 5 -r 10 f_it(25)\n",
    "\n",
    "print('n = 50:')\n",
    "%timeit -n 5 -r 10 f_it(50)\n",
    "\n",
    "print('n = 100:')\n",
    "%timeit -n 5 -r 10 f_it(100)"
   ]
  }
 ],
 "metadata": {
  "kernelspec": {
   "display_name": "Python 3",
   "language": "python",
   "name": "python3"
  },
  "language_info": {
   "codemirror_mode": {
    "name": "ipython",
    "version": 3
   },
   "file_extension": ".py",
   "mimetype": "text/x-python",
   "name": "python",
   "nbconvert_exporter": "python",
   "pygments_lexer": "ipython3",
   "version": "3.8.5"
  }
 },
 "nbformat": 4,
 "nbformat_minor": 4
}
